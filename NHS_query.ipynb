  {
   "cell_type": "code",
   "execution_count": 1,
   "metadata": {},
   "outputs": [],
   "source": [
    "#import libraries\n",
    "import pandas as pd\n",
    "import numpy as np\n",
    "%matplotlib inline\n",
    "import matplotlib.pyplot as plt"
   ]
  },
  {
   "cell_type": "markdown",
   "metadata": {},
   "source": [
    "# 1. Country Codes for Spain and Netherlands #"
   ]
  },
  {
   "cell_type": "code",
   "execution_count": 2,
   "metadata": {},
   "outputs": [
    {
     "data": {
      "text/html": [
       "<div>\n",
       "<style scoped>\n",
       "    .dataframe tbody tr th:only-of-type {\n",
       "        vertical-align: middle;\n",
       "    }\n",
       "\n",
       "    .dataframe tbody tr th {\n",
       "        vertical-align: top;\n",
       "    }\n",
       "\n",
       "    .dataframe thead th {\n",
       "        text-align: right;\n",
       "    }\n",
       "</style>\n",
       "<table border=\"1\" class=\"dataframe\">\n",
       "  <thead>\n",
       "    <tr style=\"text-align: right;\">\n",
       "      <th></th>\n",
       "      <th>country</th>\n",
       "      <th>name</th>\n",
       "    </tr>\n",
       "  </thead>\n",
       "  <tbody>\n",
       "    <tr>\n",
       "      <th>0</th>\n",
       "      <td>1010</td>\n",
       "      <td>Algeria</td>\n",
       "    </tr>\n",
       "    <tr>\n",
       "      <th>1</th>\n",
       "      <td>1020</td>\n",
       "      <td>Angola</td>\n",
       "    </tr>\n",
       "    <tr>\n",
       "      <th>2</th>\n",
       "      <td>1025</td>\n",
       "      <td>Benin</td>\n",
       "    </tr>\n",
       "    <tr>\n",
       "      <th>3</th>\n",
       "      <td>1030</td>\n",
       "      <td>Botswana</td>\n",
       "    </tr>\n",
       "    <tr>\n",
       "      <th>4</th>\n",
       "      <td>1035</td>\n",
       "      <td>Burkina Faso</td>\n",
       "    </tr>\n",
       "  </tbody>\n",
       "</table>\n",
       "</div>"
      ],
      "text/plain": [
       "   country          name\n",
       "0     1010       Algeria\n",
       "1     1020        Angola\n",
       "2     1025         Benin\n",
       "3     1030      Botswana\n",
       "4     1035  Burkina Faso"
      ]
     },
     "execution_count": 2,
     "metadata": {},
     "output_type": "execute_result"
    }
   ],
   "source": [
    "#my path to part A files\n",
    "path = './Part_A/'\n",
    "\n",
    "#read in country_codes file to a pandas dataframe\n",
    "country_codes =path + 'country_codes'\n",
    "country_codes_df = pd.read_csv(country_codes)\n",
    "\n",
    "#check out head of dataframe\n",
    "country_codes_df.head()"
   ]
  },
  {
   "cell_type": "code",
   "execution_count": 3,
   "metadata": {},
   "outputs": [
    {
     "name": "stdout",
     "output_type": "stream",
     "text": [
      "Spain's Code is: 4280\n"
     ]
    }
   ],
   "source": [
    "#country code for spain \n",
    "spain_code= country_codes_df.loc[country_codes_df['name']== 'Spain', 'country'].iloc[0]\n",
    "print(f\"Spain's Code is: {spain_code}\")"
   ]
  },
  {
   "cell_type": "code",
   "execution_count": 4,
   "metadata": {},
   "outputs": [
    {
     "name": "stdout",
     "output_type": "stream",
     "text": [
      "Netherlands' code is: 4210\n"
     ]
    }
   ],
   "source": [
    "#country code for netherlands \n",
    "neth_code= country_codes_df.loc[country_codes_df['name']== 'Netherlands', 'country'].iloc[0]\n",
    "print(f\"Netherlands' code is: {neth_code}\")"
   ]
  },
  {
   "cell_type": "markdown",
   "metadata": {},
   "source": [
    "# 2. 2015 Deaths in Spain and Netherlands"
   ]
  },
  {
   "cell_type": "code",
   "execution_count": 5,
   "metadata": {},
   "outputs": [
    {
     "name": "stderr",
     "output_type": "stream",
     "text": [
      "C:\\Users\\vsmit\\anaconda3\\lib\\site-packages\\IPython\\core\\interactiveshell.py:3063: DtypeWarning: Columns (4) have mixed types.Specify dtype option on import or set low_memory=False.\n",
      "  interactivity=interactivity, compiler=compiler, result=result)\n",
      "C:\\Users\\vsmit\\anaconda3\\lib\\site-packages\\IPython\\core\\interactiveshell.py:3063: DtypeWarning: Columns (2,4) have mixed types.Specify dtype option on import or set low_memory=False.\n",
      "  interactivity=interactivity, compiler=compiler, result=result)\n"
     ]
    },
    {
     "data": {
      "text/html": [
       "<div>\n",
       "<style scoped>\n",
       "    .dataframe tbody tr th:only-of-type {\n",
       "        vertical-align: middle;\n",
       "    }\n",
       "\n",
       "    .dataframe tbody tr th {\n",
       "        vertical-align: top;\n",
       "    }\n",
       "\n",
       "    .dataframe thead th {\n",
       "        text-align: right;\n",
       "    }\n",
       "</style>\n",
       "<table border=\"1\" class=\"dataframe\">\n",
       "  <thead>\n",
       "    <tr style=\"text-align: right;\">\n",
       "      <th></th>\n",
       "      <th>Country</th>\n",
       "      <th>Admin1</th>\n",
       "      <th>SubDiv</th>\n",
       "      <th>Year</th>\n",
       "      <th>List</th>\n",
       "      <th>Cause</th>\n",
       "      <th>Sex</th>\n",
       "      <th>Frmat</th>\n",
       "      <th>IM_Frmat</th>\n",
       "      <th>Deaths1</th>\n",
       "      <th>...</th>\n",
       "      <th>Deaths21</th>\n",
       "      <th>Deaths22</th>\n",
       "      <th>Deaths23</th>\n",
       "      <th>Deaths24</th>\n",
       "      <th>Deaths25</th>\n",
       "      <th>Deaths26</th>\n",
       "      <th>IM_Deaths1</th>\n",
       "      <th>IM_Deaths2</th>\n",
       "      <th>IM_Deaths3</th>\n",
       "      <th>IM_Deaths4</th>\n",
       "    </tr>\n",
       "  </thead>\n",
       "  <tbody>\n",
       "    <tr>\n",
       "      <th>1990</th>\n",
       "      <td>1400</td>\n",
       "      <td>NaN</td>\n",
       "      <td>NaN</td>\n",
       "      <td>2015</td>\n",
       "      <td>101</td>\n",
       "      <td>1000</td>\n",
       "      <td>1</td>\n",
       "      <td>7</td>\n",
       "      <td>1</td>\n",
       "      <td>401</td>\n",
       "      <td>...</td>\n",
       "      <td>111.0</td>\n",
       "      <td>NaN</td>\n",
       "      <td>NaN</td>\n",
       "      <td>NaN</td>\n",
       "      <td>NaN</td>\n",
       "      <td>0.0</td>\n",
       "      <td>2.0</td>\n",
       "      <td>2.0</td>\n",
       "      <td>1.0</td>\n",
       "      <td>2.0</td>\n",
       "    </tr>\n",
       "    <tr>\n",
       "      <th>1991</th>\n",
       "      <td>1400</td>\n",
       "      <td>NaN</td>\n",
       "      <td>NaN</td>\n",
       "      <td>2015</td>\n",
       "      <td>101</td>\n",
       "      <td>1000</td>\n",
       "      <td>2</td>\n",
       "      <td>7</td>\n",
       "      <td>1</td>\n",
       "      <td>302</td>\n",
       "      <td>...</td>\n",
       "      <td>162.0</td>\n",
       "      <td>NaN</td>\n",
       "      <td>NaN</td>\n",
       "      <td>NaN</td>\n",
       "      <td>NaN</td>\n",
       "      <td>0.0</td>\n",
       "      <td>2.0</td>\n",
       "      <td>1.0</td>\n",
       "      <td>3.0</td>\n",
       "      <td>4.0</td>\n",
       "    </tr>\n",
       "    <tr>\n",
       "      <th>1992</th>\n",
       "      <td>1400</td>\n",
       "      <td>NaN</td>\n",
       "      <td>NaN</td>\n",
       "      <td>2015</td>\n",
       "      <td>101</td>\n",
       "      <td>1001</td>\n",
       "      <td>1</td>\n",
       "      <td>7</td>\n",
       "      <td>1</td>\n",
       "      <td>28</td>\n",
       "      <td>...</td>\n",
       "      <td>10.0</td>\n",
       "      <td>NaN</td>\n",
       "      <td>NaN</td>\n",
       "      <td>NaN</td>\n",
       "      <td>NaN</td>\n",
       "      <td>0.0</td>\n",
       "      <td>0.0</td>\n",
       "      <td>0.0</td>\n",
       "      <td>0.0</td>\n",
       "      <td>0.0</td>\n",
       "    </tr>\n",
       "    <tr>\n",
       "      <th>1993</th>\n",
       "      <td>1400</td>\n",
       "      <td>NaN</td>\n",
       "      <td>NaN</td>\n",
       "      <td>2015</td>\n",
       "      <td>101</td>\n",
       "      <td>1001</td>\n",
       "      <td>2</td>\n",
       "      <td>7</td>\n",
       "      <td>1</td>\n",
       "      <td>19</td>\n",
       "      <td>...</td>\n",
       "      <td>10.0</td>\n",
       "      <td>NaN</td>\n",
       "      <td>NaN</td>\n",
       "      <td>NaN</td>\n",
       "      <td>NaN</td>\n",
       "      <td>0.0</td>\n",
       "      <td>0.0</td>\n",
       "      <td>0.0</td>\n",
       "      <td>0.0</td>\n",
       "      <td>1.0</td>\n",
       "    </tr>\n",
       "    <tr>\n",
       "      <th>1994</th>\n",
       "      <td>1400</td>\n",
       "      <td>NaN</td>\n",
       "      <td>NaN</td>\n",
       "      <td>2015</td>\n",
       "      <td>101</td>\n",
       "      <td>1002</td>\n",
       "      <td>1</td>\n",
       "      <td>7</td>\n",
       "      <td>1</td>\n",
       "      <td>0</td>\n",
       "      <td>...</td>\n",
       "      <td>0.0</td>\n",
       "      <td>NaN</td>\n",
       "      <td>NaN</td>\n",
       "      <td>NaN</td>\n",
       "      <td>NaN</td>\n",
       "      <td>0.0</td>\n",
       "      <td>0.0</td>\n",
       "      <td>0.0</td>\n",
       "      <td>0.0</td>\n",
       "      <td>0.0</td>\n",
       "    </tr>\n",
       "  </tbody>\n",
       "</table>\n",
       "<p>5 rows × 39 columns</p>\n",
       "</div>"
      ],
      "text/plain": [
       "      Country  Admin1 SubDiv  Year List Cause  Sex  Frmat  IM_Frmat  Deaths1  \\\n",
       "1990     1400     NaN    NaN  2015  101  1000    1      7         1      401   \n",
       "1991     1400     NaN    NaN  2015  101  1000    2      7         1      302   \n",
       "1992     1400     NaN    NaN  2015  101  1001    1      7         1       28   \n",
       "1993     1400     NaN    NaN  2015  101  1001    2      7         1       19   \n",
       "1994     1400     NaN    NaN  2015  101  1002    1      7         1        0   \n",
       "\n",
       "      ...  Deaths21  Deaths22  Deaths23  Deaths24  Deaths25  Deaths26  \\\n",
       "1990  ...     111.0       NaN       NaN       NaN       NaN       0.0   \n",
       "1991  ...     162.0       NaN       NaN       NaN       NaN       0.0   \n",
       "1992  ...      10.0       NaN       NaN       NaN       NaN       0.0   \n",
       "1993  ...      10.0       NaN       NaN       NaN       NaN       0.0   \n",
       "1994  ...       0.0       NaN       NaN       NaN       NaN       0.0   \n",
       "\n",
       "      IM_Deaths1  IM_Deaths2  IM_Deaths3  IM_Deaths4  \n",
       "1990         2.0         2.0         1.0         2.0  \n",
       "1991         2.0         1.0         3.0         4.0  \n",
       "1992         0.0         0.0         0.0         0.0  \n",
       "1993         0.0         0.0         0.0         1.0  \n",
       "1994         0.0         0.0         0.0         0.0  \n",
       "\n",
       "[5 rows x 39 columns]"
      ]
     },
     "execution_count": 5,
     "metadata": {},
     "output_type": "execute_result"
    }
   ],
   "source": [
    "#with same path as above, read in Morticd10_part1 and 2 files to pandas dataframes \n",
    "\n",
    "#Morticd10_part1 \n",
    "morticd10_part1 =path + 'Morticd10_part1'\n",
    "morticd_df1 =pd.read_csv(morticd10_part1)\n",
    "morticd_2015_df1= morticd_df1[morticd_df1['Year']== 2015]\n",
    "#check out the head of the dataframe\n",
    "morticd_2015_df1.head()\n",
    "\n",
    "#NOTE Morticd10_part1 only up to 2004, does not contain data for 2015 (empty dataframe) so I will not use this\n",
    "\n",
    "morticd10_part2 =path + 'Morticd10_part2'\n",
    "morticd_df2 =pd.read_csv(morticd10_part2)\n",
    "morticd_2015_df2= morticd_df2[morticd_df2['Year']==2015]\n",
    "\n",
    "#check out the head of the dataframe\n",
    "morticd_2015_df2.head()"
   ]
  },
  {
   "cell_type": "code",
   "execution_count": 6,
   "metadata": {},
   "outputs": [
    {
     "name": "stdout",
     "output_type": "stream",
     "text": [
      "Total deaths from all causes in 2015: \n",
      " Spain= 845136 \n",
      " Netherlands= 294268 \n",
      " Total for Spain and Netherlands= 1139404\n"
     ]
    }
   ],
   "source": [
    "#Deaths1 column = Deaths at all ages so I will select this and use country codes from above exercise \n",
    "\n",
    "#all deaths in spain 2015 \n",
    "alldeaths_2015_spain= morticd_2015_df2.loc[morticd_2015_df2['Country']== spain_code, 'Deaths1'].sum()\n",
    "\n",
    "#all deaths in netherlands 2015 \n",
    "alldeaths_2015_neth= morticd_2015_df2.loc[morticd_2015_df2['Country']== neth_code, 'Deaths1'].sum()\n",
    "\n",
    "#Total deaths for spain and netherlands\n",
    "total= alldeaths_2015_spain + alldeaths_2015_neth\n",
    "\n",
    "#print results \n",
    "print(f\"Total deaths from all causes in 2015: \\n Spain= {alldeaths_2015_spain} \\n Netherlands= {alldeaths_2015_neth} \\n Total for Spain and Netherlands= {total}\")"
   ]
  },
  {
   "cell_type": "markdown",
   "metadata": {},
   "source": [
    "# 3. Arrays of total deaths by age group for Spain and Netherlands "
   ]
  },
  {
   "cell_type": "code",
   "execution_count": 7,
   "metadata": {},
   "outputs": [
    {
     "data": {
      "text/html": [
       "<div>\n",
       "<style scoped>\n",
       "    .dataframe tbody tr th:only-of-type {\n",
       "        vertical-align: middle;\n",
       "    }\n",
       "\n",
       "    .dataframe tbody tr th {\n",
       "        vertical-align: top;\n",
       "    }\n",
       "\n",
       "    .dataframe thead th {\n",
       "        text-align: right;\n",
       "    }\n",
       "</style>\n",
       "<table border=\"1\" class=\"dataframe\">\n",
       "  <thead>\n",
       "    <tr style=\"text-align: right;\">\n",
       "      <th></th>\n",
       "      <th>Spain</th>\n",
       "      <th>Netherlands</th>\n",
       "    </tr>\n",
       "  </thead>\n",
       "  <tbody>\n",
       "    <tr>\n",
       "      <th>Deaths2</th>\n",
       "      <td>2278.0</td>\n",
       "      <td>1122.0</td>\n",
       "    </tr>\n",
       "    <tr>\n",
       "      <th>Deaths3</th>\n",
       "      <td>168.0</td>\n",
       "      <td>78.0</td>\n",
       "    </tr>\n",
       "    <tr>\n",
       "      <th>Deaths4</th>\n",
       "      <td>126.0</td>\n",
       "      <td>38.0</td>\n",
       "    </tr>\n",
       "    <tr>\n",
       "      <th>Deaths5</th>\n",
       "      <td>84.0</td>\n",
       "      <td>42.0</td>\n",
       "    </tr>\n",
       "    <tr>\n",
       "      <th>Deaths6</th>\n",
       "      <td>64.0</td>\n",
       "      <td>38.0</td>\n",
       "    </tr>\n",
       "  </tbody>\n",
       "</table>\n",
       "</div>"
      ],
      "text/plain": [
       "          Spain  Netherlands\n",
       "Deaths2  2278.0       1122.0\n",
       "Deaths3   168.0         78.0\n",
       "Deaths4   126.0         38.0\n",
       "Deaths5    84.0         42.0\n",
       "Deaths6    64.0         38.0"
      ]
     },
     "execution_count": 7,
     "metadata": {},
     "output_type": "execute_result"
    }
   ],
   "source": [
    "#create series (one dimensional array ) of summed column values for spain and netherlands using above morticd_2015_df2\n",
    "#exclude unspecified column (only including collated age categories Deaths2-Deaths25)\n",
    "spain_total_deaths= morticd_2015_df2.loc[morticd_2015_df2['Country']== spain_code,'Deaths2':'Deaths25'].sum()\n",
    "neth_total_deaths= morticd_2015_df2.loc[morticd_2015_df2['Country']== neth_code,'Deaths2':'Deaths25'].sum()\n",
    "\n",
    "#merge these 2 series into a dataframe \n",
    "spneth_df = pd.DataFrame({'Spain':spain_total_deaths,'Netherlands':neth_total_deaths})\n",
    "spneth_df.head()"
   ]
  },
  {
   "cell_type": "code",
   "execution_count": 8,
   "metadata": {},
   "outputs": [
    {
     "data": {
      "text/html": [
       "<div>\n",
       "<style scoped>\n",
       "    .dataframe tbody tr th:only-of-type {\n",
       "        vertical-align: middle;\n",
       "    }\n",
       "\n",
       "    .dataframe tbody tr th {\n",
       "        vertical-align: top;\n",
       "    }\n",
       "\n",
       "    .dataframe thead th {\n",
       "        text-align: right;\n",
       "    }\n",
       "</style>\n",
       "<table border=\"1\" class=\"dataframe\">\n",
       "  <thead>\n",
       "    <tr style=\"text-align: right;\">\n",
       "      <th></th>\n",
       "      <th>Spain</th>\n",
       "      <th>Netherlands</th>\n",
       "    </tr>\n",
       "  </thead>\n",
       "  <tbody>\n",
       "    <tr>\n",
       "      <th>75-79</th>\n",
       "      <td>91044.0</td>\n",
       "      <td>36486.0</td>\n",
       "    </tr>\n",
       "    <tr>\n",
       "      <th>80-84</th>\n",
       "      <td>153226.0</td>\n",
       "      <td>48958.0</td>\n",
       "    </tr>\n",
       "    <tr>\n",
       "      <th>85-89</th>\n",
       "      <td>178304.0</td>\n",
       "      <td>53608.0</td>\n",
       "    </tr>\n",
       "    <tr>\n",
       "      <th>90-94</th>\n",
       "      <td>135020.0</td>\n",
       "      <td>40386.0</td>\n",
       "    </tr>\n",
       "    <tr>\n",
       "      <th>95 and above</th>\n",
       "      <td>57432.0</td>\n",
       "      <td>15538.0</td>\n",
       "    </tr>\n",
       "  </tbody>\n",
       "</table>\n",
       "</div>"
      ],
      "text/plain": [
       "                 Spain  Netherlands\n",
       "75-79          91044.0      36486.0\n",
       "80-84         153226.0      48958.0\n",
       "85-89         178304.0      53608.0\n",
       "90-94         135020.0      40386.0\n",
       "95 and above   57432.0      15538.0"
      ]
     },
     "execution_count": 8,
     "metadata": {},
     "output_type": "execute_result"
    }
   ],
   "source": [
    "#List with age groups defined (from documentation) \n",
    "years= {\"Deaths2\": \"0\", \"Deaths3\": \"1\", \"Deaths4\":  \"2\", \"Deaths5\": \"3\", \"Deaths6\": \"4\", \"Deaths7\": \"5-9\" , \"Deaths8\": \"10-14\",\\\n",
    "             \"Deaths9\": \"15-19\" , \"Deaths10\": \"20-24\" , \"Deaths11\": \"25-29\" , \"Deaths12\": \"30-34\", \"Deaths13\": \"35-39\",\\\n",
    "             \"Deaths14\": \"40-44\", \"Deaths15\":\"45-49\" , \"Deaths16\":\"50-54\" , \"Deaths17\":\"55-59\" , \"Deaths18\":\"60-64\" , \"Deaths19\":\"65-69\", \\\n",
    "             \"Deaths20\": \"70-74\", \"Deaths21\": \"75-79\", \"Deaths22\":\"80-84\", \"Deaths23\": \"85-89\", \"Deaths24\": \"90-94\" ,\\\n",
    "             \"Deaths25\": \"95 and above\"}\n",
    "\n",
    "#rename index to years (so graph will be more readable, without needing to refer to documentation)\n",
    "spneth_df.rename(years, inplace=True)\n",
    "spneth_df.tail()"
   ]
  },
  {
   "cell_type": "code",
   "execution_count": 154,
   "metadata": {},
   "outputs": [
    {
     "data": {
      "image/png": "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\n",
      "text/plain": [
       "<Figure size 1080x576 with 1 Axes>"
      ]
     },
     "metadata": {
      "needs_background": "light"
     },
     "output_type": "display_data"
    }
   ],
   "source": [
    "#visualise the data as barchart\n",
    "colours= ['forestgreen', 'cornflowerblue']\n",
    "spneth_df.plot.bar(width= 0.8, edgecolor = 'black', figsize=(15,8), color= colours)\n",
    "plt.xlabel('Age in Years', fontsize= 14)\n",
    "plt.ylabel('Total Deaths', fontsize= 14)\n",
    "plt.title('Total Deaths by Age Group in Spain and the Netherlands',fontsize= 16)\n",
    "plt.grid(axis= \"y\", color='gray')\n",
    "plt.show()"
   ]
  },
  {
   "cell_type": "code",
   "execution_count": 39,
   "metadata": {},
   "outputs": [
    {
     "data": {
      "image/png": "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\n",
      "text/plain": [
       "<Figure size 864x864 with 2 Axes>"
      ]
     },
     "metadata": {
      "needs_background": "light"
     },
     "output_type": "display_data"
    }
   ],
   "source": [
    "#visualise the data as subplots (matplotlib import pyplot as plt at start of notebook)\n",
    "\n",
    "#define a function to plot barcharts\n",
    "def plot_bar(ax, col_name, colour):\n",
    "    ax.bar(spneth_df.index, spneth_df[col_name], width= 0.8, edgecolor = 'black', color= colour)\n",
    "    ax.set_ylabel('Total Deaths', fontsize= 14)\n",
    "    ax.set_xticklabels(spneth_df.index, rotation=90)\n",
    "    ax.yaxis.grid(color='gray')\n",
    "\n",
    "#create subplots, format and plot bars using function above\n",
    "fig, (ax1, ax2) = plt.subplots(nrows=2, ncols=1)\n",
    "fig.tight_layout(pad=1)\n",
    "fig.set_figheight(12)\n",
    "fig.set_figwidth(12)\n",
    "plot_bar(ax1, 'Spain', 'forestgreen')\n",
    "plot_bar(ax2, 'Netherlands', 'cornflowerblue')\n",
    "ax2.set_xlabel('Age in Years', fontsize= 14)\n",
    "ax1.set_title('Total Deaths by Age Group Spain', fontsize= 14)\n",
    "ax2.set_title('Total Deaths by Age Group Netherlands', fontsize= 14)\n",
    "plt.show()"
   ]
  },
  {
   "cell_type": "markdown",
   "metadata": {},
   "source": [
    "Explain and discuss results: \n",
    "\n",
    "Spain and the Netherlands follow a similar pattern in 2015, with deaths progressively increasing from late 20s to the peak of deaths in the 85-89 years age group (Deaths 23) and declining thereafter. This is not surprising as both these coutries in the EU have reasoably good qaulity of life and people are likely to live into old age. However, Spain has considerably more deaths overall than the netherlands. It is important to note this dataset is not adjusted for population size and so this difference is likley in part down to total population size (as Spain had about 3 times the population of the Netherlands in 2015). There are likley other reasons for variation too relating to lifestyle factors and genetic variants found in these two countries. "
   ]
  },
  {
   "cell_type": "markdown",
   "metadata": {},
   "source": [
    "# 4. Top 5 ICD-10 codes for Neoplasm"
   ]
  },
  {
   "cell_type": "code",
   "execution_count": 11,
   "metadata": {},
   "outputs": [
    {
     "data": {
      "text/html": [
       "<div>\n",
       "<style scoped>\n",
       "    .dataframe tbody tr th:only-of-type {\n",
       "        vertical-align: middle;\n",
       "    }\n",
       "\n",
       "    .dataframe tbody tr th {\n",
       "        vertical-align: top;\n",
       "    }\n",
       "\n",
       "    .dataframe thead th {\n",
       "        text-align: right;\n",
       "    }\n",
       "</style>\n",
       "<table border=\"1\" class=\"dataframe\">\n",
       "  <thead>\n",
       "    <tr style=\"text-align: right;\">\n",
       "      <th></th>\n",
       "      <th>description</th>\n",
       "    </tr>\n",
       "    <tr>\n",
       "      <th>code</th>\n",
       "      <th></th>\n",
       "    </tr>\n",
       "  </thead>\n",
       "  <tbody>\n",
       "    <tr>\n",
       "      <th>A000</th>\n",
       "      <td>Cholera due to Vibrio cholerae 01</td>\n",
       "    </tr>\n",
       "    <tr>\n",
       "      <th>A001</th>\n",
       "      <td>Cholera due to Vibrio cholerae 01</td>\n",
       "    </tr>\n",
       "    <tr>\n",
       "      <th>A009</th>\n",
       "      <td>Cholera</td>\n",
       "    </tr>\n",
       "    <tr>\n",
       "      <th>A0100</th>\n",
       "      <td>Typhoid fever</td>\n",
       "    </tr>\n",
       "    <tr>\n",
       "      <th>A0101</th>\n",
       "      <td>Typhoid meningitis</td>\n",
       "    </tr>\n",
       "  </tbody>\n",
       "</table>\n",
       "</div>"
      ],
      "text/plain": [
       "                                description\n",
       "code                                       \n",
       "A000      Cholera due to Vibrio cholerae 01\n",
       "A001      Cholera due to Vibrio cholerae 01\n",
       "A009                                Cholera\n",
       "A0100                         Typhoid fever\n",
       "A0101                    Typhoid meningitis"
      ]
     },
     "execution_count": 11,
     "metadata": {},
     "output_type": "execute_result"
    }
   ],
   "source": [
    "#with same path as above, read in I10cm_desc2010.txt file to pandas dataframes and name columns \n",
    "cols= ['ICD10_code']\n",
    "icd10 =path + 'I10cm_desc2010.txt'\n",
    "icd10_df =pd.read_csv(icd10, names= cols, header= None, index_col=False)\n",
    "\n",
    "#split the ICD10 codes into seperate column and set index to this \n",
    "icd10_df[['code','description']] = icd10_df[\"ICD10_code\"].str.split(pat= \" \", n=1, expand=True) \n",
    "icd10_df= icd10_df.drop(labels= 'ICD10_code', axis=1)\n",
    "icd10_df.set_index('code', drop=True, append=False, inplace=True)\n",
    "\n",
    "#check out dataframe \n",
    "icd10_df.head()"
   ]
  },
  {
   "cell_type": "code",
   "execution_count": 12,
   "metadata": {},
   "outputs": [],
   "source": [
    "#slice dataframe of only neoplasm codes and descriptors (C00-D48)\n",
    "neo_df= icd10_df.loc['C000': 'D480', :]\n",
    "neo_df.head()\n",
    "\n",
    "#create a list of codes \n",
    "neo_list= neo_df.index.to_list()\n",
    "neo_dict= neo_df.to_dict()"
   ]
  },
  {
   "cell_type": "code",
   "execution_count": 13,
   "metadata": {},
   "outputs": [],
   "source": [
    "#slice morticd_2015_df2 to cause and total deaths in spain and netherlands respectively \n",
    "spain_cause_df= morticd_2015_df2.loc[morticd_2015_df2['Country']== spain_code, ['Cause', 'Deaths1']]\n",
    "neth_cause_df= morticd_2015_df2.loc[morticd_2015_df2['Country']== neth_code, ['Cause', 'Deaths1']]\n",
    "\n",
    "#find top5 neoplasm causes of death for spain: \n",
    "top_neo_causes_sp= spain_cause_df[spain_cause_df['Cause'].isin(neo_list)]\n",
    "top_neo_causes_sp= top_neo_causes_sp.groupby('Cause').sum()\n",
    "top_neo_causes_sp= top_neo_causes_sp.sort_values(['Deaths1'], axis=0, ascending= False).head(5)\n",
    "\n",
    "#find top5 neoplasm causes of death for netherlands: \n",
    "top_neo_causes_neth= neth_cause_df[neth_cause_df['Cause'].isin(neo_list)]\n",
    "top_neo_causes_neth= top_neo_causes_neth.groupby('Cause').sum()\n",
    "top_neo_causes_neth= top_neo_causes_neth.sort_values(['Deaths1'], axis=0, ascending= False).head(5)"
   ]
  },
  {
   "cell_type": "code",
   "execution_count": 14,
   "metadata": {},
   "outputs": [],
   "source": [
    "#define a fucntion to get code descriptions from neoplasm dictionary, based on list of codes and return a dictionary\n",
    "\n",
    "def GetIcdDefinitions(data):\n",
    "    codes= []\n",
    "    descriptions= []\n",
    "    for code in data.index:\n",
    "        descrip= neo_dict['description'].get(str(code)) \n",
    "        codes.append(code)\n",
    "        descriptions.append(descrip)\n",
    "        my_dict= dict(zip(codes, descriptions))\n",
    "        my_df= pd.DataFrame.from_dict(my_dict, orient= 'index', columns= ['Description'])\n",
    "    \n",
    "    return my_df"
   ]
  },
  {
   "cell_type": "code",
   "execution_count": 15,
   "metadata": {},
   "outputs": [
    {
     "name": "stdout",
     "output_type": "stream",
     "text": [
      "Top 5 neoplasm causes of death Spain:\n",
      "                              Description  Total Deaths\n",
      "C189          Malignant neoplasm of colon        9605.0\n",
      "C259       Malignant neoplasm of pancreas        6080.0\n",
      "C61        Malignant neoplasm of prostate        5757.0\n",
      "C169        Malignant neoplasm of stomach        5135.0\n",
      "C679        Malignant neoplasm of bladder        4785.0\n",
      "Total                                 NaN       31362.0\n",
      "\n",
      "\n",
      "Top 5 neoplasm causes of death Netherlands:\n",
      "                              Description  Total Deaths\n",
      "C189          Malignant neoplasm of colon        3102.0\n",
      "C61        Malignant neoplasm of prostate        2641.0\n",
      "C259       Malignant neoplasm of pancreas        1837.0\n",
      "C159      Malignant neoplasm of esophagus        1790.0\n",
      "C169        Malignant neoplasm of stomach        1200.0\n",
      "Total                                 NaN       10570.0\n"
     ]
    }
   ],
   "source": [
    "#find descriptions with above function\n",
    "neth_neoplasms= GetIcdDefinitions(top_neo_causes_neth)\n",
    "neth_merged_df= neth_neoplasms.merge(top_neo_causes_neth, left_index=True, right_index=True)\n",
    "neth_merged_df.columns= ['Description', 'Total Deaths']\n",
    "\n",
    "sp_neoplasms= GetIcdDefinitions(top_neo_causes_sp)\n",
    "sp_merged_df= sp_neoplasms.merge(top_neo_causes_sp, left_index=True, right_index=True)\n",
    "sp_merged_df.columns= ['Description', 'Total Deaths']\n",
    "\n",
    "#create column totals row so we can see total deaths for each country to compare\n",
    "neth_merged_df.loc['Total']= neth_merged_df.sum(numeric_only= True)\n",
    "sp_merged_df.loc['Total']= sp_merged_df.sum(numeric_only= True)\n",
    "\n",
    "#print answers\n",
    "print(f\"Top 5 neoplasm causes of death Spain:\\n{sp_merged_df}\")\n",
    "print(\"\\n\")\n",
    "print(f\"Top 5 neoplasm causes of death Netherlands:\\n{neth_merged_df}\") "
   ]
  },
  {
   "cell_type": "code",
   "execution_count": 19,
   "metadata": {},
   "outputs": [
    {
     "name": "stdout",
     "output_type": "stream",
     "text": [
      "Percentage of Top 5 Neoplasm Deaths Spain:\n",
      "                              Description  Percentage of Top 5 Neoplasm Deaths\n",
      "C189          Malignant neoplasm of colon                                 30.6\n",
      "C259       Malignant neoplasm of pancreas                                 19.4\n",
      "C61        Malignant neoplasm of prostate                                 18.4\n",
      "C169        Malignant neoplasm of stomach                                 16.4\n",
      "C679        Malignant neoplasm of bladder                                 15.3\n",
      "Total                                 NaN                                100.0\n",
      "\n",
      "\n",
      "Percentage of Top 5 Neoplasm Deaths Netherlands:\n",
      "                              Description  Percentage of Top 5 Neoplasm Deaths\n",
      "C189          Malignant neoplasm of colon                                 29.3\n",
      "C61        Malignant neoplasm of prostate                                 25.0\n",
      "C259       Malignant neoplasm of pancreas                                 17.4\n",
      "C159      Malignant neoplasm of esophagus                                 16.9\n",
      "C169        Malignant neoplasm of stomach                                 11.4\n",
      "Total                                 NaN                                100.0\n"
     ]
    }
   ],
   "source": [
    "#Adjust for total number of neoplasm deaths per country (as percetage)\n",
    "neth_merged_df['Percentage of Top 5 Neoplasm Deaths']= round((neth_merged_df['Total Deaths']/neth_merged_df.loc['Total', 'Total Deaths'])*100, 1)\n",
    "sp_merged_df['Percentage of Top 5 Neoplasm Deaths']= round((sp_merged_df['Total Deaths']/sp_merged_df.loc['Total', 'Total Deaths'])*100, 1)\n",
    "\n",
    "print(f\"Percentage of Top 5 Neoplasm Deaths Spain:\\n{sp_merged_df[['Description', 'Percentage of Top 5 Neoplasm Deaths']]}\")\n",
    "print(\"\\n\")\n",
    "print(f\"Percentage of Top 5 Neoplasm Deaths Netherlands:\\n{neth_merged_df[['Description', 'Percentage of Top 5 Neoplasm Deaths']]}\") "
   ]
  },
  {
   "cell_type": "code",
   "execution_count": 159,
   "metadata": {},
   "outputs": [
    {
     "data": {
      "image/png": "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\n",
      "text/plain": [
       "<Figure size 720x720 with 2 Axes>"
      ]
     },
     "metadata": {},
     "output_type": "display_data"
    }
   ],
   "source": [
    "sp= sp_merged_df.iloc[:5, :]\n",
    "neth= neth_merged_df.iloc[:5, :]\n",
    "\n",
    "#create subplots, format and plot bars \n",
    "fig, (ax1, ax2) = plt.subplots(nrows=1, ncols=2)\n",
    "fig.tight_layout()\n",
    "fig.set_figheight(10)\n",
    "fig.set_figwidth(10)\n",
    "ax1.pie(sp['Total Deaths'], labels= sp.index)\n",
    "ax2.pie(neth['Total Deaths'], labels= neth.index)\n",
    "ax1.set_title('Deaths caused by Top 5 Neoplasms: Spain')\n",
    "ax2.set_title('Deaths caused by Top 5 Neoplasms:Netherlands')\n",
    "plt.show()"
   ]
  },
  {
   "cell_type": "markdown",
   "metadata": {},
   "source": [
    "Explain and Discuss Results:\n",
    "\n",
    "The total deaths by these top 5 neoplasms overall is higher in Spain versus the Netherlands. We know that the Spanish population is larger than the Dutch one from the previous question and so this is no surprise. Adjusting for total number of neoplasm deaths between countries allows us to see the percentage of deaths from each neoplasm type in the top 5. \n",
    "Both spain and the netherlands have 4 of the same codes in their top 5 (C189, C259, C61, C169) in a slightly different order- this suggests that Spain and netherlands primarily get similar types of neoplasms that cause death. This could be due to having similar lifestyles and perhaps similar genetic variants (both being in the EU). We cannot see from this exercise if these types of neoplasms are the most common worldwide, but it is possible these types of neoplasms are simply the most common to cause death in humans. \n",
    "\n",
    "Both countries have C189, Malignant neoplasm of colon, as there largest death causing neoplasm, with very similar percetages (of top5 neoplasms being malignant neoplasm of the colon). This suggests neoplasms of the colon are the most common neoplasm that causes death in Spain and the Netherlands and can be explained by the above. It is also possible that this neoplasm is the most likley to be identified and recorded as cause of death. Perhaps other neoplasms do commonly result in death but are not easy to dientify or well recorded.  \n",
    "\n",
    "Spain has C679 Malignant neoplasm of bladder in their top 5 whereas the netherlands instead has C159 Malignant neoplasm of esophagus. These discrepnecies may be explained by lifestyle differences between spain and the netherlands or common genetic variants in spanish versus dutch populations or population demographics (certain neoplasms assocaited with certain age group and there are more/less percentage of the population in this age group in Spain and the Netherlands). \n"
   ]
  },
  {
   "cell_type": "markdown",
   "metadata": {},
   "source": [
    "# 1. Top 5 practices "
   ]
  },
  {
   "cell_type": "code",
   "execution_count": 71,
   "metadata": {},
   "outputs": [
    {
     "data": {
      "text/html": [
       "<div>\n",
       "<style scoped>\n",
       "    .dataframe tbody tr th:only-of-type {\n",
       "        vertical-align: middle;\n",
       "    }\n",
       "\n",
       "    .dataframe tbody tr th {\n",
       "        vertical-align: top;\n",
       "    }\n",
       "\n",
       "    .dataframe thead th {\n",
       "        text-align: right;\n",
       "    }\n",
       "</style>\n",
       "<table border=\"1\" class=\"dataframe\">\n",
       "  <thead>\n",
       "    <tr style=\"text-align: right;\">\n",
       "      <th></th>\n",
       "      <th>PSEEN_END_DATE</th>\n",
       "      <th>GEOTYPE</th>\n",
       "      <th>PRACTICE_CODE</th>\n",
       "      <th>PRACTICE_NAME</th>\n",
       "      <th>PRAC_POSTCODE</th>\n",
       "      <th>CCG_CODE</th>\n",
       "      <th>CCG_ONS_CODE</th>\n",
       "      <th>CCG_NAME</th>\n",
       "      <th>LA_CODE</th>\n",
       "      <th>LA_NAME</th>\n",
       "      <th>REGION_CODE</th>\n",
       "      <th>REGION_ONS_CODE</th>\n",
       "      <th>REGION_NAME</th>\n",
       "      <th>PATIENT_TYPE</th>\n",
       "      <th>AGE_BAND</th>\n",
       "      <th>PATIENTS_SEEN</th>\n",
       "      <th>POPULATION</th>\n",
       "    </tr>\n",
       "  </thead>\n",
       "  <tbody>\n",
       "    <tr>\n",
       "      <th>0</th>\n",
       "      <td>31/07/2019</td>\n",
       "      <td>CCG</td>\n",
       "      <td>NaN</td>\n",
       "      <td>NaN</td>\n",
       "      <td>NaN</td>\n",
       "      <td>Unallocated</td>\n",
       "      <td>Unallocated</td>\n",
       "      <td>Unallocated</td>\n",
       "      <td>NaN</td>\n",
       "      <td>NaN</td>\n",
       "      <td></td>\n",
       "      <td>NaN</td>\n",
       "      <td>NaN</td>\n",
       "      <td>Child</td>\n",
       "      <td>0</td>\n",
       "      <td>36</td>\n",
       "      <td>NaN</td>\n",
       "    </tr>\n",
       "    <tr>\n",
       "      <th>1</th>\n",
       "      <td>31/07/2019</td>\n",
       "      <td>CCG</td>\n",
       "      <td>NaN</td>\n",
       "      <td>NaN</td>\n",
       "      <td>NaN</td>\n",
       "      <td>Unallocated</td>\n",
       "      <td>Unallocated</td>\n",
       "      <td>Unallocated</td>\n",
       "      <td>NaN</td>\n",
       "      <td>NaN</td>\n",
       "      <td></td>\n",
       "      <td>NaN</td>\n",
       "      <td>NaN</td>\n",
       "      <td>Child</td>\n",
       "      <td>1</td>\n",
       "      <td>410</td>\n",
       "      <td>NaN</td>\n",
       "    </tr>\n",
       "    <tr>\n",
       "      <th>2</th>\n",
       "      <td>31/07/2019</td>\n",
       "      <td>CCG</td>\n",
       "      <td>NaN</td>\n",
       "      <td>NaN</td>\n",
       "      <td>NaN</td>\n",
       "      <td>Unallocated</td>\n",
       "      <td>Unallocated</td>\n",
       "      <td>Unallocated</td>\n",
       "      <td>NaN</td>\n",
       "      <td>NaN</td>\n",
       "      <td></td>\n",
       "      <td>NaN</td>\n",
       "      <td>NaN</td>\n",
       "      <td>Child</td>\n",
       "      <td>10</td>\n",
       "      <td>1389</td>\n",
       "      <td>NaN</td>\n",
       "    </tr>\n",
       "    <tr>\n",
       "      <th>3</th>\n",
       "      <td>31/07/2019</td>\n",
       "      <td>CCG</td>\n",
       "      <td>NaN</td>\n",
       "      <td>NaN</td>\n",
       "      <td>NaN</td>\n",
       "      <td>Unallocated</td>\n",
       "      <td>Unallocated</td>\n",
       "      <td>Unallocated</td>\n",
       "      <td>NaN</td>\n",
       "      <td>NaN</td>\n",
       "      <td></td>\n",
       "      <td>NaN</td>\n",
       "      <td>NaN</td>\n",
       "      <td>Child</td>\n",
       "      <td>11</td>\n",
       "      <td>1332</td>\n",
       "      <td>NaN</td>\n",
       "    </tr>\n",
       "    <tr>\n",
       "      <th>4</th>\n",
       "      <td>31/07/2019</td>\n",
       "      <td>CCG</td>\n",
       "      <td>NaN</td>\n",
       "      <td>NaN</td>\n",
       "      <td>NaN</td>\n",
       "      <td>Unallocated</td>\n",
       "      <td>Unallocated</td>\n",
       "      <td>Unallocated</td>\n",
       "      <td>NaN</td>\n",
       "      <td>NaN</td>\n",
       "      <td></td>\n",
       "      <td>NaN</td>\n",
       "      <td>NaN</td>\n",
       "      <td>Child</td>\n",
       "      <td>12</td>\n",
       "      <td>1285</td>\n",
       "      <td>NaN</td>\n",
       "    </tr>\n",
       "  </tbody>\n",
       "</table>\n",
       "</div>"
      ],
      "text/plain": [
       "  PSEEN_END_DATE GEOTYPE PRACTICE_CODE PRACTICE_NAME PRAC_POSTCODE  \\\n",
       "0     31/07/2019     CCG           NaN           NaN           NaN   \n",
       "1     31/07/2019     CCG           NaN           NaN           NaN   \n",
       "2     31/07/2019     CCG           NaN           NaN           NaN   \n",
       "3     31/07/2019     CCG           NaN           NaN           NaN   \n",
       "4     31/07/2019     CCG           NaN           NaN           NaN   \n",
       "\n",
       "      CCG_CODE CCG_ONS_CODE     CCG_NAME LA_CODE LA_NAME REGION_CODE  \\\n",
       "0  Unallocated  Unallocated  Unallocated     NaN     NaN               \n",
       "1  Unallocated  Unallocated  Unallocated     NaN     NaN               \n",
       "2  Unallocated  Unallocated  Unallocated     NaN     NaN               \n",
       "3  Unallocated  Unallocated  Unallocated     NaN     NaN               \n",
       "4  Unallocated  Unallocated  Unallocated     NaN     NaN               \n",
       "\n",
       "  REGION_ONS_CODE REGION_NAME PATIENT_TYPE AGE_BAND  PATIENTS_SEEN  POPULATION  \n",
       "0             NaN         NaN        Child        0             36         NaN  \n",
       "1             NaN         NaN        Child        1            410         NaN  \n",
       "2             NaN         NaN        Child       10           1389         NaN  \n",
       "3             NaN         NaN        Child       11           1332         NaN  \n",
       "4             NaN         NaN        Child       12           1285         NaN  "
      ]
     },
     "execution_count": 71,
     "metadata": {},
     "output_type": "execute_result"
    }
   ],
   "source": [
    "#my path to part B files\n",
    "pathb = './Part_B/NHS_Dental_Statistics_for_England/'\n",
    "\n",
    "#read in nhs-dent-stat-eng-jan-jun-20-anx3-ps-prac.csv file to a pandas dataframe\n",
    "patients1 =pathb + 'nhs-dent-stat-eng-jan-jun-20-anx3-ps-prac.csv'\n",
    "patients_df1 = pd.read_csv(patients1)\n",
    "\n",
    "#read in nhs-dent-stat-eng-jul-dec-19-anx3-ps-prac.csv file to a pandas dataframe\n",
    "patients2 =pathb + 'nhs-dent-stat-eng-jul-dec-19-anx3-ps-prac.csv'\n",
    "patients_df2 = pd.read_csv(patients2)\n",
    "\n",
    "#append two dataframes \n",
    "patients_df= patients_df2.append(patients_df1)\n",
    "\n",
    "#check out dataframe\n",
    "patients_df.head()"
   ]
  },
  {
   "cell_type": "code",
   "execution_count": 50,
   "metadata": {},
   "outputs": [
    {
     "name": "stdout",
     "output_type": "stream",
     "text": [
      "The Top 5 Practices with the most patients seen are: \n",
      "                                            PRACTICE_NAME  PATIENTS_SEEN\n",
      "920959                    Taneja and Pangotra Partnership          29335\n",
      "929301                       Petrie Tucker & Partners Ltd          28855\n",
      "901735  Balbir S Bhandal, Amrik S Bhandal & Baljit S B...          25283\n",
      "824025                     Whitecross Dental Care Limited          21823\n",
      "809010                      Seven Dental & 2 Colwick Road          20621\n"
     ]
    }
   ],
   "source": [
    "#select suset of rows for dates and ages of interest\n",
    "adult_df= patients_df[(patients_df[\"PSEEN_END_DATE\"]== \"31/12/2019\") & (patients_df[\"AGE_BAND\"]== \"18-64\")]\n",
    "\n",
    "#drop NaN values for dental practise name \n",
    "adult_cleaned_df=adult_df.dropna(subset= [\"PRACTICE_NAME\"])\n",
    "adult_cleaned_df.head()\n",
    "\n",
    "#assuming no repeat practices at one age group, now order on patients seen to get top5 practises with most patients seen\n",
    "top5_practices_df= adult_cleaned_df.sort_values(['PATIENTS_SEEN'], axis=0, ascending= False).head(5)\n",
    "top5_practices_df= top5_practices_df.head()\n",
    "\n",
    "#print the results \n",
    "#top5_practices= top5_practices_df[\"PRACTICE_NAME\"].to_string(index= False)\n",
    "print(f\"The Top 5 Practices with the most patients seen are: \\n{top5_practices_df[['PRACTICE_NAME', 'PATIENTS_SEEN']]}\")"
   ]
  },
  {
   "cell_type": "code",
   "execution_count": 160,
   "metadata": {},
   "outputs": [
    {
     "data": {
      "image/png": "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\n",
      "text/plain": [
       "<Figure size 1080x576 with 1 Axes>"
      ]
     },
     "metadata": {
      "needs_background": "light"
     },
     "output_type": "display_data"
    }
   ],
   "source": [
    "#Visualise results (plot the practice against patients seen)\n",
    "top5_practices_df.plot.bar(x= \"PRACTICE_NAME\", y= \"PATIENTS_SEEN\", rot= 360, color= 'lightcoral', edgecolor = 'black', width = 0.2, legend= False, figsize=(15,8))\n",
    "plt.title('Adult Patients Seen during Period 31st December 2019 By Practice', fontsize= 16) \n",
    "plt.xlabel('PRACTICE NAME', fontsize= 14)\n",
    "plt.xticks(rotation=45)\n",
    "plt.ylabel('NUMBER OF PATIENTS SEEN', fontsize= 14)\n",
    "plt.grid(axis= 'y', color= 'gray', linewidth= 0.5)\n",
    "plt.show()"
   ]
  },
  {
   "cell_type": "markdown",
   "metadata": {},
   "source": [
    "# 2. Number of adult patients seen in each London Local Authority "
   ]
  },
  {
   "cell_type": "code",
   "execution_count": 51,
   "metadata": {},
   "outputs": [
    {
     "data": {
      "text/plain": [
       "LA_NAME\n",
       "London Borough of Lambeth Council      117360\n",
       "London Borough of Ealing               112762\n",
       "London Borough of Lewisham Council     112235\n",
       "London Borough of Croydon              108902\n",
       "London Borough of Southwark Council    104438\n",
       "Name: PATIENTS_SEEN, dtype: int64"
      ]
     },
     "execution_count": 51,
     "metadata": {},
     "output_type": "execute_result"
    }
   ],
   "source": [
    "#please note at GEOTYPE level of Local Authority, there is no region data and so I am not able to group by London\n",
    "#Without pulling together a list of London Local Authority names from another soucrce instead I  filter for region\\\n",
    "#name is London (giving practise level numbers) and summing these\n",
    "#using adult_df from above (subsetted on age and date)\n",
    "london_LA_df= adult_df[(adult_df[\"REGION_NAME\"]== 'London')] \n",
    "london_LA_df.head()\n",
    "\n",
    "#drop where LA_NAME is null value\n",
    "london_cleaned_df=london_LA_df.dropna(subset= [\"LA_NAME\"])\n",
    "london_cleaned_df.head()\n",
    "\n",
    "#groupby each london local authority at practise level and sum patients seen per Local Auhtority\n",
    "authorities_grouped= london_cleaned_df.groupby(\"LA_NAME\")['PATIENTS_SEEN'].sum() \n",
    "authorities_sorted= authorities_grouped.sort_values(ascending= False)\n",
    "authorities_sorted.head()"
   ]
  },
  {
   "cell_type": "code",
   "execution_count": 161,
   "metadata": {},
   "outputs": [
    {
     "data": {
      "image/png": "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\n",
      "text/plain": [
       "<Figure size 1080x1080 with 1 Axes>"
      ]
     },
     "metadata": {
      "needs_background": "light"
     },
     "output_type": "display_data"
    }
   ],
   "source": [
    "#Visualise results (plot the local authority against patients seen)\n",
    "authorities_sorted.plot.barh(color= 'lightcoral', edgecolor = 'black', width = 0.5, legend= False, figsize=(15,15))\n",
    "plt.title('Adult Patients Seen in each London Local Authority during Period 31st December 2019') \n",
    "plt.xlabel('LOCAL AUTHORITY')\n",
    "plt.ylabel('NUMBER OF PATIENTS SEEN')\n",
    "plt.grid(axis= 'x', color= 'gray', linewidth= 0.5)\n",
    "plt.show()"
   ]
  },
  {
   "cell_type": "markdown",
   "metadata": {},
   "source": [
    "Explain and Discuss Results: \n",
    "\n",
    "From this December 2019 snapshot, we see most patients are seen in the Lambeth Area and least in the Corporation of the City of London. However, this data is not adjusted for population in each of these local authorities so it is not possible to determine if the variation can be accounted for by population of each local authority (for example the Borough of Lambeth has a large population and the Corporation of the City of London as a smaller population) or some other factors. This dataset looks at NHS dentists, the difference we see here could be in part due to some London Authorities having less NHS denstists and/or more patients in those local authorities opting to go privately which could account for the variation. In addition, people living in certain areas could be registered with dentists elsewhere if this is not their primary address. It is also possible that there is more opt out of dental appointments in certain Local Authorities. There are also likley other reasons that I have not considered. As this is just a snapshot of one month,  it is not possible to determine variability over the year."
   ]
  },
  {
   "cell_type": "markdown",
   "metadata": {},
   "source": [
    "# 3. Function to show total patients seen at 2 time periods and relative change (per region)"
   ]
  },
  {
   "cell_type": "code",
   "execution_count": 73,
   "metadata": {},
   "outputs": [
    {
     "data": {
      "text/plain": [
       "dtype('<M8[ns]')"
      ]
     },
     "execution_count": 73,
     "metadata": {},
     "output_type": "execute_result"
    }
   ],
   "source": [
    "#using same dataframe as above (patients_df)\n",
    "#make sure PSEEN_END_DATE is datetime datatype \n",
    "patients_df['PSEEN_END_DATE'] = pd.to_datetime(patients_df['PSEEN_END_DATE'])\n",
    "patients_df['PSEEN_END_DATE'].dtypes"
   ]
  },
  {
   "cell_type": "code",
   "execution_count": 122,
   "metadata": {},
   "outputs": [],
   "source": [
    "#define function \n",
    "def Total_Patients_Seen(t1, t2, region): \n",
    "    t1_patients= patients_df.loc[(patients_df['PSEEN_END_DATE']== t1) & (patients_df['REGION_NAME']== region)][\"PATIENTS_SEEN\"].sum()\n",
    "    t2_patients= patients_df.loc[(patients_df['PSEEN_END_DATE']== t2) & (patients_df['REGION_NAME']== region)][\"PATIENTS_SEEN\"].sum()\n",
    "    relative_change= ((t1_patients-t2_patients)/t1_patients)*100\n",
    "    table_data= {\"Region\": region, f\"Total Patients {t1}\": [t1_patients], f\"Total Patients {t2}\": [t2_patients], \\\n",
    "                 \"Relative Change (%)\": [relative_change]}\n",
    "    table_df= pd.DataFrame(table_data)\n",
    "    return table_df"
   ]
  },
  {
   "cell_type": "code",
   "execution_count": 123,
   "metadata": {},
   "outputs": [
    {
     "data": {
      "text/html": [
       "<div>\n",
       "<style scoped>\n",
       "    .dataframe tbody tr th:only-of-type {\n",
       "        vertical-align: middle;\n",
       "    }\n",
       "\n",
       "    .dataframe tbody tr th {\n",
       "        vertical-align: top;\n",
       "    }\n",
       "\n",
       "    .dataframe thead th {\n",
       "        text-align: right;\n",
       "    }\n",
       "</style>\n",
       "<table border=\"1\" class=\"dataframe\">\n",
       "  <thead>\n",
       "    <tr style=\"text-align: right;\">\n",
       "      <th></th>\n",
       "      <th>Region</th>\n",
       "      <th>Total Patients 2019-7-31</th>\n",
       "      <th>Total Patients 2020-6-30</th>\n",
       "      <th>Relative Change (%)</th>\n",
       "    </tr>\n",
       "  </thead>\n",
       "  <tbody>\n",
       "    <tr>\n",
       "      <th>0</th>\n",
       "      <td>London</td>\n",
       "      <td>8044916</td>\n",
       "      <td>7431958</td>\n",
       "      <td>7.619197</td>\n",
       "    </tr>\n",
       "  </tbody>\n",
       "</table>\n",
       "</div>"
      ],
      "text/plain": [
       "   Region  Total Patients 2019-7-31  Total Patients 2020-6-30  \\\n",
       "0  London                   8044916                   7431958   \n",
       "\n",
       "   Relative Change (%)  \n",
       "0             7.619197  "
      ]
     },
     "execution_count": 123,
     "metadata": {},
     "output_type": "execute_result"
    }
   ],
   "source": [
    "#run the function for london \n",
    "london_df=Total_Patients_Seen(\"2019-7-31\", \"2020-6-30\", \"London\")\n",
    "london_df"
   ]
  },
  {
   "cell_type": "code",
   "execution_count": 124,
   "metadata": {},
   "outputs": [
    {
     "data": {
      "text/html": [
       "<div>\n",
       "<style scoped>\n",
       "    .dataframe tbody tr th:only-of-type {\n",
       "        vertical-align: middle;\n",
       "    }\n",
       "\n",
       "    .dataframe tbody tr th {\n",
       "        vertical-align: top;\n",
       "    }\n",
       "\n",
       "    .dataframe thead th {\n",
       "        text-align: right;\n",
       "    }\n",
       "</style>\n",
       "<table border=\"1\" class=\"dataframe\">\n",
       "  <thead>\n",
       "    <tr style=\"text-align: right;\">\n",
       "      <th></th>\n",
       "      <th>Region</th>\n",
       "      <th>Total Patients 2019-7-31</th>\n",
       "      <th>Total Patients 2020-6-30</th>\n",
       "      <th>Relative Change (%)</th>\n",
       "    </tr>\n",
       "  </thead>\n",
       "  <tbody>\n",
       "    <tr>\n",
       "      <th>0</th>\n",
       "      <td>South East</td>\n",
       "      <td>8481166</td>\n",
       "      <td>7979662</td>\n",
       "      <td>5.913149</td>\n",
       "    </tr>\n",
       "  </tbody>\n",
       "</table>\n",
       "</div>"
      ],
      "text/plain": [
       "       Region  Total Patients 2019-7-31  Total Patients 2020-6-30  \\\n",
       "0  South East                   8481166                   7979662   \n",
       "\n",
       "   Relative Change (%)  \n",
       "0             5.913149  "
      ]
     },
     "execution_count": 124,
     "metadata": {},
     "output_type": "execute_result"
    }
   ],
   "source": [
    "#check out different region names\n",
    "regions= patients_df[\"REGION_NAME\"].unique()\n",
    "\n",
    "#run the function for South East\n",
    "southeast_df= Total_Patients_Seen(\"2019-7-31\", \"2020-6-30\", \"South East\")\n",
    "southeast_df"
   ]
  },
  {
   "cell_type": "code",
   "execution_count": 125,
   "metadata": {},
   "outputs": [
    {
     "data": {
      "text/html": [
       "<div>\n",
       "<style scoped>\n",
       "    .dataframe tbody tr th:only-of-type {\n",
       "        vertical-align: middle;\n",
       "    }\n",
       "\n",
       "    .dataframe tbody tr th {\n",
       "        vertical-align: top;\n",
       "    }\n",
       "\n",
       "    .dataframe thead th {\n",
       "        text-align: right;\n",
       "    }\n",
       "</style>\n",
       "<table border=\"1\" class=\"dataframe\">\n",
       "  <thead>\n",
       "    <tr style=\"text-align: right;\">\n",
       "      <th></th>\n",
       "      <th>Total Patients 2019-7-31</th>\n",
       "      <th>Total Patients 2020-6-30</th>\n",
       "      <th>Relative Change (%)</th>\n",
       "    </tr>\n",
       "    <tr>\n",
       "      <th>Region</th>\n",
       "      <th></th>\n",
       "      <th></th>\n",
       "      <th></th>\n",
       "    </tr>\n",
       "  </thead>\n",
       "  <tbody>\n",
       "    <tr>\n",
       "      <th>London</th>\n",
       "      <td>8044916</td>\n",
       "      <td>7431958</td>\n",
       "      <td>7.619197</td>\n",
       "    </tr>\n",
       "    <tr>\n",
       "      <th>South East</th>\n",
       "      <td>8481166</td>\n",
       "      <td>7979662</td>\n",
       "      <td>5.913149</td>\n",
       "    </tr>\n",
       "  </tbody>\n",
       "</table>\n",
       "</div>"
      ],
      "text/plain": [
       "            Total Patients 2019-7-31  Total Patients 2020-6-30  \\\n",
       "Region                                                           \n",
       "London                       8044916                   7431958   \n",
       "South East                   8481166                   7979662   \n",
       "\n",
       "            Relative Change (%)  \n",
       "Region                           \n",
       "London                 7.619197  \n",
       "South East             5.913149  "
      ]
     },
     "execution_count": 125,
     "metadata": {},
     "output_type": "execute_result"
    }
   ],
   "source": [
    "#compare London and South East \n",
    "combined_df= london_df.append(southeast_df)\n",
    "combined_df.set_index(\"Region\", drop=True, inplace=True)\n",
    "combined_df.head()"
   ]
  },
  {
   "cell_type": "code",
   "execution_count": 162,
   "metadata": {},
   "outputs": [
    {
     "data": {
      "image/png": "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\n",
      "text/plain": [
       "<Figure size 576x432 with 1 Axes>"
      ]
     },
     "metadata": {
      "needs_background": "light"
     },
     "output_type": "display_data"
    }
   ],
   "source": [
    "combined_df[[\"Total Patients 2019-7-31\",\"Total Patients 2020-6-30\"]].plot.bar(figsize=(8,6), color= colours, edgecolor = 'black', width = 0.4)\n",
    "plt.title(\"Dental Patients seen in London in two time periods: 31/07/2019 and 31/06/2020\",fontsize=15)\n",
    "plt.ylabel('Total Patients Seen',fontsize=12)\n",
    "plt.xlabel('Region',fontsize=12)\n",
    "plt.xticks(rotation=45)\n",
    "plt.legend(loc='center left', bbox_to_anchor=(1, 0.5))\n",
    "plt.show()"
   ]
  },
  {
   "cell_type": "markdown",
   "metadata": {},
   "source": [
    "Discuss results: \n",
    "There are less patients seen in both July 2019 and June 2020 in London compared to the South East. This could be in part due to population size differences in the two areas. \n",
    "There are consitently less patients seen in June 2020 compared to July 2019. It is possible this is because less patients were booking dentists appointments in 2020 due to the COVID-19 pandemic as they are shielding or being cautious. It is also possible dentists are not operating at such high capacity as in the previous summer, due to COVID-19 safety precautions or staff being off sick etc. \n",
    "The relative change is slightly lower for the South East compared to London, perhaps as COVID-19 levels were lower outside of London at this time, but we cannot be sure that there is no other factors involved which are causing numbers to vary between these two dates. This just looks at two months' data so we cannot be sure if this pattern holds across the year for these regions."
   ]
  },
  {
   "cell_type": "markdown",
   "metadata": {},
   "source": [
    "# 4. 5 Practices with largest patient decline 31st July 2019 versus 30th June 2020 "
   ]
  },
  {
   "cell_type": "code",
   "execution_count": 134,
   "metadata": {},
   "outputs": [
    {
     "data": {
      "text/html": [
       "<div>\n",
       "<style scoped>\n",
       "    .dataframe tbody tr th:only-of-type {\n",
       "        vertical-align: middle;\n",
       "    }\n",
       "\n",
       "    .dataframe tbody tr th {\n",
       "        vertical-align: top;\n",
       "    }\n",
       "\n",
       "    .dataframe thead th {\n",
       "        text-align: right;\n",
       "    }\n",
       "</style>\n",
       "<table border=\"1\" class=\"dataframe\">\n",
       "  <thead>\n",
       "    <tr style=\"text-align: right;\">\n",
       "      <th></th>\n",
       "      <th>Patients Seen July 2019</th>\n",
       "      <th>Patients Seen June 2020</th>\n",
       "      <th>Patient Change</th>\n",
       "      <th>Relative Patient Change %</th>\n",
       "    </tr>\n",
       "    <tr>\n",
       "      <th>PRACTICE_NAME</th>\n",
       "      <th></th>\n",
       "      <th></th>\n",
       "      <th></th>\n",
       "      <th></th>\n",
       "    </tr>\n",
       "  </thead>\n",
       "  <tbody>\n",
       "    <tr>\n",
       "      <th>MR AR PATEL</th>\n",
       "      <td>9540</td>\n",
       "      <td>579</td>\n",
       "      <td>8961</td>\n",
       "      <td>94.0</td>\n",
       "    </tr>\n",
       "    <tr>\n",
       "      <th>IDH Limited</th>\n",
       "      <td>49480</td>\n",
       "      <td>43638</td>\n",
       "      <td>5842</td>\n",
       "      <td>12.0</td>\n",
       "    </tr>\n",
       "    <tr>\n",
       "      <th>MR AF YUSUF</th>\n",
       "      <td>4967</td>\n",
       "      <td>60</td>\n",
       "      <td>4907</td>\n",
       "      <td>99.0</td>\n",
       "    </tr>\n",
       "    <tr>\n",
       "      <th>Petrie Tucker &amp; Partners Ltd</th>\n",
       "      <td>45592</td>\n",
       "      <td>40788</td>\n",
       "      <td>4804</td>\n",
       "      <td>11.0</td>\n",
       "    </tr>\n",
       "    <tr>\n",
       "      <th>S Cowley, R Ingham and J Angelo</th>\n",
       "      <td>59014</td>\n",
       "      <td>54656</td>\n",
       "      <td>4358</td>\n",
       "      <td>7.0</td>\n",
       "    </tr>\n",
       "  </tbody>\n",
       "</table>\n",
       "</div>"
      ],
      "text/plain": [
       "                                 Patients Seen July 2019  \\\n",
       "PRACTICE_NAME                                              \n",
       "MR AR PATEL                                         9540   \n",
       "IDH Limited                                        49480   \n",
       "MR AF YUSUF                                         4967   \n",
       "Petrie Tucker & Partners Ltd                       45592   \n",
       "S Cowley, R Ingham and J Angelo                    59014   \n",
       "\n",
       "                                 Patients Seen June 2020  Patient Change  \\\n",
       "PRACTICE_NAME                                                              \n",
       "MR AR PATEL                                          579            8961   \n",
       "IDH Limited                                        43638            5842   \n",
       "MR AF YUSUF                                           60            4907   \n",
       "Petrie Tucker & Partners Ltd                       40788            4804   \n",
       "S Cowley, R Ingham and J Angelo                    54656            4358   \n",
       "\n",
       "                                 Relative Patient Change %  \n",
       "PRACTICE_NAME                                               \n",
       "MR AR PATEL                                           94.0  \n",
       "IDH Limited                                           12.0  \n",
       "MR AF YUSUF                                           99.0  \n",
       "Petrie Tucker & Partners Ltd                          11.0  \n",
       "S Cowley, R Ingham and J Angelo                        7.0  "
      ]
     },
     "execution_count": 134,
     "metadata": {},
     "output_type": "execute_result"
    }
   ],
   "source": [
    "#using patients_df from above select for 2 time periods and london \n",
    "t1_df= patients_df.loc[(patients_df['PSEEN_END_DATE']== \"2019-7-31\") & (patients_df['REGION_NAME']== \"London\")]\n",
    "t2_df= patients_df.loc[(patients_df['PSEEN_END_DATE']== \"2020-6-30\") & (patients_df['REGION_NAME']== \"London\")]\n",
    "\n",
    "#groupby practise name and sum \n",
    "t1_df=t1_df.dropna(axis=0, subset= [\"PRACTICE_NAME\"], how='all')\n",
    "t1_grouped=t1_df.groupby(\"PRACTICE_NAME\").sum()\n",
    "\n",
    "t2_df=t2_df.dropna(axis=0, subset= [\"PRACTICE_NAME\"], how='all')\n",
    "t2_grouped=t2_df.groupby(\"PRACTICE_NAME\").sum()\n",
    "\n",
    "#merge dataframes and calculate change and relative change in columns \n",
    "t1t2_df= t1_grouped.merge(t2_grouped, left_index=True, right_index=True, how='inner')\n",
    "t1t2_df= t1t2_df[['PATIENTS_SEEN_x','PATIENTS_SEEN_y']]\n",
    "t1t2_df.columns=['Patients Seen July 2019', 'Patients Seen June 2020']\n",
    "t1t2_df['Patient Change']= t1t2_df['Patients Seen July 2019']- t1t2_df['Patients Seen June 2020']\n",
    "t1t2_df['Relative Patient Change %']= round(((t1t2_df['Patients Seen July 2019']- t1t2_df['Patients Seen June 2020'])/t1t2_df['Patients Seen July 2019'])*100, 0)\n",
    "\n",
    "#sort by value in Patient change column and select top 5 practices with largest change \n",
    "t1t2_df.sort_values(\"Patient Change\",ascending= False, inplace=True)\n",
    "t1t2_df.head()\n",
    "t1t2_df.head()\n"
   ]
  },
  {
   "cell_type": "markdown",
   "metadata": {},
   "source": [
    "Discuss results: \n",
    "All these practices in the top 5 saw a reduction in patients seen between July 2019 and June 2020. MR AR PATEL had the largest decline in patients (a drop of 8961) between July 2019 and June 2020. This was also a large percentage reduction (94%) in patients and we see a similar percentage reduction for MR AF YUSUF (99%) as well. We can see the practice was still seeing some patients at the later date so it is not that the practice has closed, but it is possible that, due to COVID-19, the practice is running at a lower capacity in 2020. This is likley as staff were off sick/needing to isolate periodically, measures to make dental surgeries COVID safe (in the case of these 2 practices the staff is likley a small number or just the one dentist due to how they are named) and more patients opting to delay their appointments due to contracting COVID-19, shielding or being cautious. Maybe MR AR PATEL was hit hardest by this due to greater COVID-19 in the practice patients and/or the staff in June 2020. However, it is possible some of the reduction in patients we see between these 2 time periods, is due to other factors that I have not considered. "
   ]
  },
  {
   "cell_type": "markdown",
   "metadata": {},
   "source": [
    "# 5. Time-series analysis of total dental patients seen in London from 31st July 2019 up until and including 31st May 2020"
   ]
  },
  {
   "cell_type": "code",
   "execution_count": 135,
   "metadata": {},
   "outputs": [
    {
     "data": {
      "text/html": [
       "<div>\n",
       "<style scoped>\n",
       "    .dataframe tbody tr th:only-of-type {\n",
       "        vertical-align: middle;\n",
       "    }\n",
       "\n",
       "    .dataframe tbody tr th {\n",
       "        vertical-align: top;\n",
       "    }\n",
       "\n",
       "    .dataframe thead th {\n",
       "        text-align: right;\n",
       "    }\n",
       "</style>\n",
       "<table border=\"1\" class=\"dataframe\">\n",
       "  <thead>\n",
       "    <tr style=\"text-align: right;\">\n",
       "      <th></th>\n",
       "      <th>PATIENTS_SEEN</th>\n",
       "      <th>POPULATION</th>\n",
       "    </tr>\n",
       "    <tr>\n",
       "      <th>PSEEN_END_DATE</th>\n",
       "      <th></th>\n",
       "      <th></th>\n",
       "    </tr>\n",
       "  </thead>\n",
       "  <tbody>\n",
       "    <tr>\n",
       "      <th>2019-07-31</th>\n",
       "      <td>8044916</td>\n",
       "      <td>8908081.0</td>\n",
       "    </tr>\n",
       "    <tr>\n",
       "      <th>2019-08-31</th>\n",
       "      <td>8040332</td>\n",
       "      <td>8908081.0</td>\n",
       "    </tr>\n",
       "    <tr>\n",
       "      <th>2019-09-30</th>\n",
       "      <td>8044200</td>\n",
       "      <td>8908081.0</td>\n",
       "    </tr>\n",
       "    <tr>\n",
       "      <th>2019-10-31</th>\n",
       "      <td>7979974</td>\n",
       "      <td>8908081.0</td>\n",
       "    </tr>\n",
       "    <tr>\n",
       "      <th>2019-11-30</th>\n",
       "      <td>7984780</td>\n",
       "      <td>8908081.0</td>\n",
       "    </tr>\n",
       "  </tbody>\n",
       "</table>\n",
       "</div>"
      ],
      "text/plain": [
       "                PATIENTS_SEEN  POPULATION\n",
       "PSEEN_END_DATE                           \n",
       "2019-07-31            8044916   8908081.0\n",
       "2019-08-31            8040332   8908081.0\n",
       "2019-09-30            8044200   8908081.0\n",
       "2019-10-31            7979974   8908081.0\n",
       "2019-11-30            7984780   8908081.0"
      ]
     },
     "execution_count": 135,
     "metadata": {},
     "output_type": "execute_result"
    }
   ],
   "source": [
    "#using patients_df as above (already made sure 'PSEEN_END_DATE' was datetime data type)\n",
    "#subset for correct date range and London only \n",
    "subset_df= patients_df.loc[(patients_df['REGION_NAME']== \"London\")& (patients_df[\"PSEEN_END_DATE\"]>= \"2019-7-31\") & (patients_df[\"PSEEN_END_DATE\"]<=\"2020-5-31\")]\n",
    "\n",
    "#group by the date and sum for total patients seen \n",
    "subset_grouped= subset_df.groupby(\"PSEEN_END_DATE\").sum()\n",
    "subset_grouped.head()"
   ]
  },
  {
   "cell_type": "code",
   "execution_count": 163,
   "metadata": {},
   "outputs": [
    {
     "data": {
      "image/png": "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\n",
      "text/plain": [
       "<Figure size 720x432 with 1 Axes>"
      ]
     },
     "metadata": {
      "needs_background": "light"
     },
     "output_type": "display_data"
    }
   ],
   "source": [
    "#Visualise the results\n",
    "subset_grouped.plot(y= \"PATIENTS_SEEN\", figsize=(10,6), legend= None)\n",
    "plt.title(\"Dental Patients seen in London between July 2019 and May 2020\",fontsize=15)\n",
    "plt.ylabel('Total Patients Seen',fontsize=14)\n",
    "plt.xlabel('Date',fontsize=14)\n",
    "plt.show()"
   ]
  },
  {
   "cell_type": "markdown",
   "metadata": {},
   "source": [
    "Discuss Results: \n",
    "\n",
    "The large decline in patients seen from March 2020 coincides with the start of the COVID-19 pandemic lockdown in London. Orginally (in March, April and May 2020 as shown here) dental practises had unprecedented restrictions placed on them, running at a lower capacity. However, we can only observe a correlation here with the onset of COVID-19 realtded resitrictions and it is possible some of the reduction in patients we see between these 2 time periods, is due to other factors. "
   ]
  },
  {
   "cell_type": "markdown",
   "metadata": {},
   "source": [
    "# 6. Analysis of the time-series (per quarter) for fillings and number of teeth extracted in London covering the period from 30th June 2019 up until and including 31st March 2020"
   ]
  },
  {
   "cell_type": "code",
   "execution_count": 144,
   "metadata": {},
   "outputs": [
    {
     "data": {
      "text/html": [
       "<div>\n",
       "<style scoped>\n",
       "    .dataframe tbody tr th:only-of-type {\n",
       "        vertical-align: middle;\n",
       "    }\n",
       "\n",
       "    .dataframe tbody tr th {\n",
       "        vertical-align: top;\n",
       "    }\n",
       "\n",
       "    .dataframe thead th {\n",
       "        text-align: right;\n",
       "    }\n",
       "</style>\n",
       "<table border=\"1\" class=\"dataframe\">\n",
       "  <thead>\n",
       "    <tr style=\"text-align: right;\">\n",
       "      <th></th>\n",
       "      <th>END_DATE_QUARTER</th>\n",
       "      <th>GEOG_TYPE</th>\n",
       "      <th>CCG_CODE</th>\n",
       "      <th>CCG_ONS_CODE</th>\n",
       "      <th>CCG_NAME</th>\n",
       "      <th>LA_CODE</th>\n",
       "      <th>LA_NAME</th>\n",
       "      <th>REGION_CODE</th>\n",
       "      <th>REGION_ONS_CODE</th>\n",
       "      <th>REGION_NAME</th>\n",
       "      <th>PATIENT_TYPE</th>\n",
       "      <th>DENTAL_TREATMENT_BAND</th>\n",
       "      <th>MEASURE</th>\n",
       "      <th>VALUE</th>\n",
       "    </tr>\n",
       "  </thead>\n",
       "  <tbody>\n",
       "    <tr>\n",
       "      <th>304977</th>\n",
       "      <td>31-Mar-20</td>\n",
       "      <td>LA</td>\n",
       "      <td>NaN</td>\n",
       "      <td>NaN</td>\n",
       "      <td>NaN</td>\n",
       "      <td>E10000014</td>\n",
       "      <td>Hampshire County Council</td>\n",
       "      <td>NaN</td>\n",
       "      <td>NaN</td>\n",
       "      <td>NaN</td>\n",
       "      <td>Child</td>\n",
       "      <td>Urgent</td>\n",
       "      <td>Total_Cl</td>\n",
       "      <td>2527.0</td>\n",
       "    </tr>\n",
       "    <tr>\n",
       "      <th>304978</th>\n",
       "      <td>31-Mar-20</td>\n",
       "      <td>LA</td>\n",
       "      <td>NaN</td>\n",
       "      <td>NaN</td>\n",
       "      <td>NaN</td>\n",
       "      <td>E10000015</td>\n",
       "      <td>Hertfordshire County Council</td>\n",
       "      <td>NaN</td>\n",
       "      <td>NaN</td>\n",
       "      <td>NaN</td>\n",
       "      <td>Child</td>\n",
       "      <td>Urgent</td>\n",
       "      <td>Total_Cl</td>\n",
       "      <td>2632.0</td>\n",
       "    </tr>\n",
       "    <tr>\n",
       "      <th>304979</th>\n",
       "      <td>31-Mar-20</td>\n",
       "      <td>LA</td>\n",
       "      <td>NaN</td>\n",
       "      <td>NaN</td>\n",
       "      <td>NaN</td>\n",
       "      <td>E10000012</td>\n",
       "      <td>Essex County Council</td>\n",
       "      <td>NaN</td>\n",
       "      <td>NaN</td>\n",
       "      <td>NaN</td>\n",
       "      <td>Child</td>\n",
       "      <td>Urgent</td>\n",
       "      <td>Total_Cl</td>\n",
       "      <td>2766.0</td>\n",
       "    </tr>\n",
       "    <tr>\n",
       "      <th>304980</th>\n",
       "      <td>31-Mar-20</td>\n",
       "      <td>LA</td>\n",
       "      <td>NaN</td>\n",
       "      <td>NaN</td>\n",
       "      <td>NaN</td>\n",
       "      <td>E10000017</td>\n",
       "      <td>Lancashire County Council</td>\n",
       "      <td>NaN</td>\n",
       "      <td>NaN</td>\n",
       "      <td>NaN</td>\n",
       "      <td>Child</td>\n",
       "      <td>Urgent</td>\n",
       "      <td>Total_Cl</td>\n",
       "      <td>3123.0</td>\n",
       "    </tr>\n",
       "    <tr>\n",
       "      <th>304981</th>\n",
       "      <td>31-Mar-20</td>\n",
       "      <td>LA</td>\n",
       "      <td>NaN</td>\n",
       "      <td>NaN</td>\n",
       "      <td>NaN</td>\n",
       "      <td>E10000016</td>\n",
       "      <td>Kent County Council</td>\n",
       "      <td>NaN</td>\n",
       "      <td>NaN</td>\n",
       "      <td>NaN</td>\n",
       "      <td>Child</td>\n",
       "      <td>Urgent</td>\n",
       "      <td>Total_Cl</td>\n",
       "      <td>3200.0</td>\n",
       "    </tr>\n",
       "  </tbody>\n",
       "</table>\n",
       "</div>"
      ],
      "text/plain": [
       "       END_DATE_QUARTER GEOG_TYPE CCG_CODE CCG_ONS_CODE CCG_NAME    LA_CODE  \\\n",
       "304977        31-Mar-20        LA      NaN          NaN      NaN  E10000014   \n",
       "304978        31-Mar-20        LA      NaN          NaN      NaN  E10000015   \n",
       "304979        31-Mar-20        LA      NaN          NaN      NaN  E10000012   \n",
       "304980        31-Mar-20        LA      NaN          NaN      NaN  E10000017   \n",
       "304981        31-Mar-20        LA      NaN          NaN      NaN  E10000016   \n",
       "\n",
       "                             LA_NAME REGION_CODE REGION_ONS_CODE REGION_NAME  \\\n",
       "304977      Hampshire County Council         NaN             NaN         NaN   \n",
       "304978  Hertfordshire County Council         NaN             NaN         NaN   \n",
       "304979          Essex County Council         NaN             NaN         NaN   \n",
       "304980     Lancashire County Council         NaN             NaN         NaN   \n",
       "304981           Kent County Council         NaN             NaN         NaN   \n",
       "\n",
       "       PATIENT_TYPE DENTAL_TREATMENT_BAND   MEASURE   VALUE  \n",
       "304977        Child                Urgent  Total_Cl  2527.0  \n",
       "304978        Child                Urgent  Total_Cl  2632.0  \n",
       "304979        Child                Urgent  Total_Cl  2766.0  \n",
       "304980        Child                Urgent  Total_Cl  3123.0  \n",
       "304981        Child                Urgent  Total_Cl  3200.0  "
      ]
     },
     "execution_count": 144,
     "metadata": {},
     "output_type": "execute_result"
    }
   ],
   "source": [
    "#read in the Clinical and Patient Charges dataset nhs-dent-stat-eng-19-20-anx3-clin-char.csv to pandas df\n",
    "charges =pathb + 'nhs-dent-stat-eng-19-20-anx3-clin-char.csv'\n",
    "charges_df = pd.read_csv(charges)\n",
    "\n",
    "#check out head of df \n",
    "charges_df.tail()"
   ]
  },
  {
   "cell_type": "code",
   "execution_count": 145,
   "metadata": {},
   "outputs": [
    {
     "data": {
      "text/plain": [
       "dtype('<M8[ns]')"
      ]
     },
     "execution_count": 145,
     "metadata": {},
     "output_type": "execute_result"
    }
   ],
   "source": [
    "#make sure END_DATE_QUARTER\t is datetime datatype\n",
    "charges_df['END_DATE_QUARTER'] = pd.to_datetime(charges_df['END_DATE_QUARTER'], errors='coerce')\n",
    "charges_df['END_DATE_QUARTER'].dtype"
   ]
  },
  {
   "cell_type": "code",
   "execution_count": 146,
   "metadata": {},
   "outputs": [
    {
     "data": {
      "text/html": [
       "<div>\n",
       "<style scoped>\n",
       "    .dataframe tbody tr th:only-of-type {\n",
       "        vertical-align: middle;\n",
       "    }\n",
       "\n",
       "    .dataframe tbody tr th {\n",
       "        vertical-align: top;\n",
       "    }\n",
       "\n",
       "    .dataframe thead th {\n",
       "        text-align: right;\n",
       "    }\n",
       "</style>\n",
       "<table border=\"1\" class=\"dataframe\">\n",
       "  <thead>\n",
       "    <tr style=\"text-align: right;\">\n",
       "      <th></th>\n",
       "      <th>Number of Fillings</th>\n",
       "      <th>Number of Extractions</th>\n",
       "    </tr>\n",
       "    <tr>\n",
       "      <th>END_DATE_QUARTER</th>\n",
       "      <th></th>\n",
       "      <th></th>\n",
       "    </tr>\n",
       "  </thead>\n",
       "  <tbody>\n",
       "    <tr>\n",
       "      <th>2019-09-30</th>\n",
       "      <td>429272.0</td>\n",
       "      <td>126479.0</td>\n",
       "    </tr>\n",
       "    <tr>\n",
       "      <th>2019-12-31</th>\n",
       "      <td>433230.0</td>\n",
       "      <td>125173.0</td>\n",
       "    </tr>\n",
       "    <tr>\n",
       "      <th>2020-03-31</th>\n",
       "      <td>414965.0</td>\n",
       "      <td>117427.0</td>\n",
       "    </tr>\n",
       "  </tbody>\n",
       "</table>\n",
       "</div>"
      ],
      "text/plain": [
       "                  Number of Fillings  Number of Extractions\n",
       "END_DATE_QUARTER                                           \n",
       "2019-09-30                  429272.0               126479.0\n",
       "2019-12-31                  433230.0               125173.0\n",
       "2020-03-31                  414965.0               117427.0"
      ]
     },
     "execution_count": 146,
     "metadata": {},
     "output_type": "execute_result"
    }
   ],
   "source": [
    "#from the data dictionary file I can see I want to look for the below values in MEASURE column of clinical treatments/charges \n",
    "#Te_Fillings = Number of teeth treated with Fissure sealants in period \n",
    "#Te_Extractions= Number of teeth Extracted in period\n",
    "charges_ldn_df= charges_df.loc[(charges_df['REGION_NAME']== \"London\")& (charges_df[\"END_DATE_QUARTER\"]>= \"2019-7-31\") & (charges_df[\"END_DATE_QUARTER\"]<=\"2020-5-31\")]\n",
    "\n",
    "#create dataframes for fillings and extractions \n",
    "fil_df= charges_ldn_df.loc[(charges_ldn_df['MEASURE']== \"Te_Fillings\")] #& (charges_ldn_df['MEASURE']== \"Te_Extractions\")]\n",
    "extr_df= charges_ldn_df.loc[(charges_ldn_df['MEASURE']== \"Te_Extractions\")]\n",
    "\n",
    "#group by the date and sum number of clinical treatments delivered \n",
    "fil_grouped= fil_df.groupby(\"END_DATE_QUARTER\").sum()\n",
    "fil_grouped.head()\n",
    "\n",
    "extr_grouped= extr_df.groupby(\"END_DATE_QUARTER\").sum()\n",
    "extr_grouped.head()\n",
    "\n",
    "#merge the data fillings and extractions\n",
    "fil_extr_df= fil_grouped.merge(extr_grouped, left_index=True, right_index=True, how= 'inner')\n",
    "fil_extr_df.columns= ['Number of Fillings', 'Number of Extractions']\n",
    "fil_extr_df.head()"
   ]
  },
  {
   "cell_type": "code",
   "execution_count": 164,
   "metadata": {},
   "outputs": [
    {
     "data": {
      "image/png": "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\n",
      "text/plain": [
       "<Figure size 720x432 with 1 Axes>"
      ]
     },
     "metadata": {
      "needs_background": "light"
     },
     "output_type": "display_data"
    }
   ],
   "source": [
    "#Visualise the results\n",
    "fig_fil = fil_extr_df.plot(legend ='left', y = 'Number of Fillings', figsize=(10, 6))\n",
    "fil_extr_df.plot(y = 'Number of Extractions' , ax=fig_fil)\n",
    "fig_fil.set_title(\"Clinical Treatments Delivered between 30th June 2019 and 31st march 2020\",fontsize=15)\n",
    "fig_fil.set_ylabel('Number of Clinical Treatments Delivered',fontsize=12)\n",
    "fig_fil.set_xlabel('End Date of Quarter',fontsize=12)\n",
    "fig_fil.legend(loc='center left', bbox_to_anchor=(1, 0.5))\n",
    "plt.show()"
   ]
  },
  {
   "cell_type": "markdown",
   "metadata": {},
   "source": [
    "Narrative: \n",
    "The Number of Fillings and Extractions Delivered shows little variation across these 3 quarters, from Q3 of 2019 to Q1 of 2020, in London. The COVID-19 related lockdown only began towards the very end of Q1 of 2020 so should not impact much on numbers here, perhaps the slight decline in Number of fillings at the end of Q1 2020 can be explained by this. However, this could just be within the normal level of quarterly variation which is not possible to assess from this limited view."
   ]
  },
  {
   "cell_type": "markdown",
   "metadata": {},
   "source": [
    "# End"
   ]
  },
  {
   "cell_type": "code",
   "execution_count": null,
   "metadata": {},
   "outputs": [],
   "source": []
  }
 ],
 "metadata": {
  "kernelspec": {
   "display_name": "Python 3",
   "language": "python",
   "name": "python3"
  },
  "language_info": {
   "codemirror_mode": {
    "name": "ipython",
    "version": 3
   },
   "file_extension": ".py",
   "mimetype": "text/x-python",
   "name": "python",
   "nbconvert_exporter": "python",
   "pygments_lexer": "ipython3",
   "version": "3.7.9"
  }
 },
 "nbformat": 4,
 "nbformat_minor": 4
}
